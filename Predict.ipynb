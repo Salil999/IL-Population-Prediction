{
 "cells": [
  {
   "cell_type": "markdown",
   "metadata": {},
   "source": [
    "# Library Imports\n",
    "- This will import all necessary libraries"
   ]
  },
  {
   "cell_type": "code",
   "execution_count": 2,
   "metadata": {
    "collapsed": true
   },
   "outputs": [],
   "source": [
    "import pandas as pd\n",
    "\n",
    "import numpy as np\n",
    "\n",
    "import matplotlib.pyplot as plt"
   ]
  },
  {
   "cell_type": "code",
   "execution_count": 3,
   "metadata": {
    "collapsed": true
   },
   "outputs": [],
   "source": [
    "old_data = pd.read_csv('Illinois_Population__1991-1999.csv', skiprows=1)\n",
    "new_data = pd.read_csv('Illinois_Population__2000-2009.csv', skiprows=1)"
   ]
  },
  {
   "cell_type": "code",
   "execution_count": 33,
   "metadata": {
    "collapsed": false
   },
   "outputs": [
    {
     "data": {
      "text/plain": [
       "0            Adams\n",
       "1        Alexander\n",
       "2             Bond\n",
       "3            Boone\n",
       "4            Brown\n",
       "5           Bureau\n",
       "6          Calhoun\n",
       "7          Carroll\n",
       "8             Cass\n",
       "9        Champaign\n",
       "10       Christian\n",
       "11           Clark\n",
       "12            Clay\n",
       "13         Clinton\n",
       "14           Coles\n",
       "15            Cook\n",
       "16        Crawford\n",
       "17      Cumberland\n",
       "18          DeKalb\n",
       "19         De Witt\n",
       "20         Douglas\n",
       "21          DuPage\n",
       "22           Edgar\n",
       "23         Edwards\n",
       "24       Effingham\n",
       "25         Fayette\n",
       "26            Ford\n",
       "27        Franklin\n",
       "28          Fulton\n",
       "29        Gallatin\n",
       "          ...     \n",
       "72           Perry\n",
       "73           Piatt\n",
       "74            Pike\n",
       "75            Pope\n",
       "76         Pulaski\n",
       "77          Putnam\n",
       "78        Randolph\n",
       "79        Richland\n",
       "80     Rock Island\n",
       "81       St. Clair\n",
       "82          Saline\n",
       "83        Sangamon\n",
       "84        Schuyler\n",
       "85           Scott\n",
       "86          Shelby\n",
       "87           Stark\n",
       "88      Stephenson\n",
       "89        Tazewell\n",
       "90           Union\n",
       "91       Vermilion\n",
       "92          Wabash\n",
       "93          Warren\n",
       "94      Washington\n",
       "95           Wayne\n",
       "96           White\n",
       "97       Whiteside\n",
       "98            Will\n",
       "99      Williamson\n",
       "100      Winnebago\n",
       "101       Woodford\n",
       "Name: Illinois, dtype: object"
      ]
     },
     "execution_count": 33,
     "metadata": {},
     "output_type": "execute_result"
    }
   ],
   "source": [
    "x = list(old_data['Illinois'])\n",
    "old_data['Illinois']"
   ]
  },
  {
   "cell_type": "code",
   "execution_count": null,
   "metadata": {
    "collapsed": true
   },
   "outputs": [],
   "source": []
  }
 ],
 "metadata": {
  "kernelspec": {
   "display_name": "Python 3",
   "language": "python",
   "name": "python3"
  },
  "language_info": {
   "codemirror_mode": {
    "name": "ipython",
    "version": 3
   },
   "file_extension": ".py",
   "mimetype": "text/x-python",
   "name": "python",
   "nbconvert_exporter": "python",
   "pygments_lexer": "ipython3",
   "version": "3.5.1"
  }
 },
 "nbformat": 4,
 "nbformat_minor": 2
}
